{
 "cells": [
  {
   "cell_type": "code",
   "execution_count": null,
   "metadata": {},
   "outputs": [],
   "source": [
    "class MyEnsemble(nn.Module):\n",
    "    def __init__(self, modelA, modelB, nb_classes=10):\n",
    "        super(MyEnsemble, self).__init__()\n",
    "        self.modelA = modelA\n",
    "        self.modelB = modelB\n",
    "        # Remove last linear layer\n",
    "        self.modelA.fc = nn.Identity()\n",
    "        self.modelB.fc = nn.Identity()\n",
    "        \n",
    "        # Create new classifier\n",
    "        self.classifier = nn.Linear(2048+512, nb_classes)\n",
    "        \n",
    "    def forward(self, x):\n",
    "        x1 = self.modelA(x.clone())  # clone to make sure x is not changed by inplace methods\n",
    "        x1 = x1.view(x1.size(0), -1)\n",
    "        x2 = self.modelB(x)\n",
    "        x2 = x2.view(x2.size(0), -1)\n",
    "        x = torch.cat((x1, x2), dim=1)\n",
    "        \n",
    "        x = self.classifier(F.relu(x))\n",
    "        return x\n",
    "\n",
    "# Train your separate models\n",
    "# ...\n",
    "# We use pretrained torchvision models here\n",
    "modelA = models.resnet50(pretrained=True)\n",
    "modelB = models.resnet18(pretrained=True)\n",
    "\n",
    "# Freeze these models\n",
    "for param in modelA.parameters():\n",
    "    param.requires_grad_(False)\n",
    "\n",
    "for param in modelB.parameters():\n",
    "    param.requires_grad_(False)\n",
    "\n",
    "# Create ensemble model\n",
    "model = MyEnsemble(modelA, modelB)\n",
    "x = torch.randn(1, 3, 224, 224)\n",
    "output = model(x)"
   ]
  }
 ],
 "metadata": {
  "interpreter": {
   "hash": "dc4844564a8a673fef4f3a905fcd3e3b3389abfe1ccda88115dd15f4ac2dadaf"
  },
  "kernelspec": {
   "display_name": "Python 3.9.5 64-bit ('env_container': venv)",
   "language": "python",
   "name": "python3"
  },
  "language_info": {
   "codemirror_mode": {
    "name": "ipython",
    "version": 3
   },
   "file_extension": ".py",
   "mimetype": "text/x-python",
   "name": "python",
   "nbconvert_exporter": "python",
   "pygments_lexer": "ipython3",
   "version": "3.9.5"
  },
  "orig_nbformat": 4
 },
 "nbformat": 4,
 "nbformat_minor": 2
}
