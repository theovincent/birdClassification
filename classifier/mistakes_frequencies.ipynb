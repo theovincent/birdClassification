{
 "cells": [
  {
   "cell_type": "code",
   "execution_count": 2,
   "metadata": {},
   "outputs": [
    {
     "name": "stdout",
     "output_type": "stream",
     "text": [
      "/workspaces/birdClassification\n"
     ]
    }
   ],
   "source": [
    "%cd .."
   ]
  },
  {
   "cell_type": "code",
   "execution_count": 13,
   "metadata": {},
   "outputs": [
    {
     "name": "stdout",
     "output_type": "stream",
     "text": [
      "{'model': 'densenet', 'classifier_4D': True, 'path_weights': 'segmentation_from_gt/densenet_41.pth', 'path_to_evaluate': 'segmentation_from_network/val_images'}\n",
      "\n",
      "\n",
      "!! Using CPU !!\n",
      "\n",
      "\n"
     ]
    },
    {
     "name": "stderr",
     "output_type": "stream",
     "text": [
      "  0%|          | 0/21 [00:00<?, ?it/s]/workspaces/birdClassification/classifier/study_mistakes.py:135: UserWarning: Implicit dimension choice for softmax has been deprecated. Change the call to include dim=X as an argument.\n",
      "  proba_answers.loc[image_name[:-4]] = softmax(output)[0].detach().numpy()\n",
      "100%|██████████| 21/21 [00:12<00:00,  1.69it/s]\n"
     ]
    },
    {
     "name": "stdout",
     "output_type": "stream",
     "text": [
      "{'model': 'resnet', 'classifier_4D': True, 'path_weights': 'segmentation_from_gt/resnet_63.pth', 'path_to_evaluate': 'segmentation_from_network/val_images'}\n",
      "\n",
      "\n",
      "!! Using CPU !!\n",
      "\n",
      "\n"
     ]
    },
    {
     "name": "stderr",
     "output_type": "stream",
     "text": [
      "100%|██████████| 21/21 [00:13<00:00,  1.57it/s]\n"
     ]
    },
    {
     "name": "stdout",
     "output_type": "stream",
     "text": [
      "{'model': 'vgg', 'classifier_4D': True, 'path_weights': 'segmentation_from_gt/vgg_33.pth', 'path_to_evaluate': 'segmentation_from_network/val_images'}\n",
      "\n",
      "\n",
      "!! Using CPU !!\n",
      "\n",
      "\n"
     ]
    },
    {
     "name": "stderr",
     "output_type": "stream",
     "text": [
      "100%|██████████| 21/21 [00:13<00:00,  1.58it/s]\n"
     ]
    },
    {
     "name": "stdout",
     "output_type": "stream",
     "text": [
      "{'model': 'vgg', 'classifier_4D': False, 'path_weights': 'crop_from_gt/vgg_37.pth', 'path_to_evaluate': 'crop_from_network/val_images'}\n",
      "\n",
      "\n",
      "!! Using CPU !!\n",
      "\n",
      "\n"
     ]
    },
    {
     "name": "stderr",
     "output_type": "stream",
     "text": [
      "  0%|          | 0/21 [00:00<?, ?it/s]/workspaces/birdClassification/classifier/study_mistakes.py:108: UserWarning: Implicit dimension choice for softmax has been deprecated. Change the call to include dim=X as an argument.\n",
      "  proba_answers.loc[image_name[:-4]] = softmax(output)[0].detach().numpy()\n",
      "100%|██████████| 21/21 [00:12<00:00,  1.70it/s]\n"
     ]
    },
    {
     "name": "stdout",
     "output_type": "stream",
     "text": [
      "{'model': 'densenet', 'classifier_4D': False, 'path_weights': 'crop_from_gt/densenet_21.pth', 'path_to_evaluate': 'crop_from_network/val_images'}\n",
      "\n",
      "\n",
      "!! Using CPU !!\n",
      "\n",
      "\n"
     ]
    },
    {
     "name": "stderr",
     "output_type": "stream",
     "text": [
      "100%|██████████| 21/21 [00:07<00:00,  2.63it/s]\n"
     ]
    },
    {
     "name": "stdout",
     "output_type": "stream",
     "text": [
      "{'model': 'resnet', 'classifier_4D': False, 'path_weights': 'crop_from_gt/resnet_37.pth', 'path_to_evaluate': 'crop_from_network/val_images'}\n",
      "\n",
      "\n",
      "!! Using CPU !!\n",
      "\n",
      "\n"
     ]
    },
    {
     "name": "stderr",
     "output_type": "stream",
     "text": [
      "100%|██████████| 21/21 [00:04<00:00,  5.06it/s]\n"
     ]
    }
   ],
   "source": [
    "from classifier.study_mistakes import study_mistakes\n",
    "import pandas as pd\n",
    "\n",
    "MODEL_TO_EVALUATE = [\n",
    "    {\"model\": \"densenet\", \"classifier_4D\": True, \"path_weights\": \"segmentation_from_gt/densenet_41.pth\", \"path_to_evaluate\": \"segmentation_from_network/val_images\"},\n",
    "    {\"model\": \"resnet\", \"classifier_4D\": True, \"path_weights\": \"segmentation_from_gt/resnet_63.pth\", \"path_to_evaluate\": \"segmentation_from_network/val_images\"},\n",
    "    {\"model\": \"vgg\", \"classifier_4D\": True, \"path_weights\": \"segmentation_from_gt/vgg_33.pth\", \"path_to_evaluate\": \"segmentation_from_network/val_images\"},\n",
    "    {\"model\": \"vgg\", \"classifier_4D\": False, \"path_weights\": \"crop_from_gt/vgg_37.pth\", \"path_to_evaluate\": \"crop_from_network/val_images\"},\n",
    "    {\"model\": \"densenet\", \"classifier_4D\": False, \"path_weights\": \"crop_from_gt/densenet_21.pth\", \"path_to_evaluate\": \"crop_from_network/val_images\"},\n",
    "    {\"model\": \"resnet\", \"classifier_4D\": False, \"path_weights\": \"crop_from_gt/resnet_37.pth\", \"path_to_evaluate\": \"crop_from_network/val_images\"},\n",
    "]\n",
    "one_hot_encoding = False\n",
    "\n",
    "over_all_proba = pd.DataFrame(None, columns=[\"target\"] + [str(class_) for class_ in range(20)], dtype=float)\n",
    "\n",
    "for idx_model, model in enumerate(MODEL_TO_EVALUATE):\n",
    "    print(model)\n",
    "\n",
    "    proba, target = study_mistakes(model[\"model\"], model[\"classifier_4D\"], model[\"path_weights\"], model[\"path_to_evaluate\"])\n",
    "\n",
    "    if one_hot_encoding:\n",
    "        proba = proba.apply(lambda line: (line == line.max()).astype(int), axis=\"columns\")\n",
    "    \n",
    "    if idx_model == 0:\n",
    "        over_all_proba[\"target\"] = target\n",
    "        for i in range(20):\n",
    "            over_all_proba[str(i)] = proba[i]\n",
    "    else:\n",
    "        for i in range(20):\n",
    "            over_all_proba[str(i)] += proba[i]\n",
    "    "
   ]
  },
  {
   "cell_type": "code",
   "execution_count": 15,
   "metadata": {},
   "outputs": [
    {
     "data": {
      "text/plain": [
       "0.9320388349514563"
      ]
     },
     "execution_count": 15,
     "metadata": {},
     "output_type": "execute_result"
    }
   ],
   "source": [
    "sum(over_all_proba[[str(i) for i in range(20)]].idxmax(axis=1).astype(int) == over_all_proba[\"target\"].astype(int))/ len(over_all_proba)"
   ]
  }
 ],
 "metadata": {
  "interpreter": {
   "hash": "dc4844564a8a673fef4f3a905fcd3e3b3389abfe1ccda88115dd15f4ac2dadaf"
  },
  "kernelspec": {
   "display_name": "Python 3.9.5 64-bit ('env_container': venv)",
   "language": "python",
   "name": "python3"
  },
  "language_info": {
   "codemirror_mode": {
    "name": "ipython",
    "version": 3
   },
   "file_extension": ".py",
   "mimetype": "text/x-python",
   "name": "python",
   "nbconvert_exporter": "python",
   "pygments_lexer": "ipython3",
   "version": "3.9.5"
  },
  "orig_nbformat": 4
 },
 "nbformat": 4,
 "nbformat_minor": 2
}
