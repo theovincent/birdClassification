{
 "cells": [
  {
   "cell_type": "code",
   "execution_count": 9,
   "metadata": {},
   "outputs": [],
   "source": [
    "import os \n",
    "import shutil\n",
    "\n",
    "for split_folder in os.listdir(\"../bird_dataset/segmentation_from_network\"):\n",
    "    if split_folder == \"test_images\":\n",
    "        continue\n",
    "    for class_folder in os.listdir(f\"../bird_dataset/segmentation_from_network/{split_folder}\"):\n",
    "        if class_folder == \"false_negatives\":\n",
    "            continue\n",
    "        if not os.path.isdir(f\"../bird_dataset/segmentation_from_gt/{split_folder}/{class_folder}\"):\n",
    "            os.makedirs(f\"../bird_dataset/segmentation_from_gt/{split_folder}/{class_folder}\")\n",
    "        \n",
    "        for image_name in os.listdir(f\"../bird_dataset/segmentation_from_network/{split_folder}/{class_folder}\"):\n",
    "            shutil.copy2(f\"../bird_dataset/segmentation_from_gt/{class_folder}/{image_name}\", f\"../bird_dataset/segmentation_from_gt/{split_folder}/{class_folder}/{image_name}\")"
   ]
  }
 ],
 "metadata": {
  "interpreter": {
   "hash": "dc4844564a8a673fef4f3a905fcd3e3b3389abfe1ccda88115dd15f4ac2dadaf"
  },
  "kernelspec": {
   "display_name": "Python 3.9.5 64-bit ('env_container': venv)",
   "language": "python",
   "name": "python3"
  },
  "language_info": {
   "codemirror_mode": {
    "name": "ipython",
    "version": 3
   },
   "file_extension": ".py",
   "mimetype": "text/x-python",
   "name": "python",
   "nbconvert_exporter": "python",
   "pygments_lexer": "ipython3",
   "version": "3.9.5"
  },
  "orig_nbformat": 4
 },
 "nbformat": 4,
 "nbformat_minor": 2
}
