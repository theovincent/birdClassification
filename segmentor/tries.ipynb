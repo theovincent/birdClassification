{
 "cells": [
  {
   "cell_type": "code",
   "execution_count": 11,
   "metadata": {},
   "outputs": [],
   "source": [
    "# import os \n",
    "\n",
    "# split = \"train\"\n",
    "# for directory in [os.listdir(f\"../bird_dataset/segmentation_from_network/{split}_images\")[0]]:\n",
    "#     for file_name in os.listdir(f\"../bird_dataset/segmentation_from_network/{split}_images/{directory}\"):\n",
    "#         file_path = f\"../bird_dataset/segmentation_from_network/{split}_images/{directory}/{file_name}\"\n",
    "#         file_new_path = f\"../bird_dataset/segmentation_from_network/{split}_images/{directory}/{file_name[:-4]}png\"\n",
    "#         os.rename(file_path, file_new_path)"
   ]
  }
 ],
 "metadata": {
  "interpreter": {
   "hash": "dc4844564a8a673fef4f3a905fcd3e3b3389abfe1ccda88115dd15f4ac2dadaf"
  },
  "kernelspec": {
   "display_name": "Python 3.9.5 64-bit ('env_container': venv)",
   "language": "python",
   "name": "python3"
  },
  "language_info": {
   "codemirror_mode": {
    "name": "ipython",
    "version": 3
   },
   "file_extension": ".py",
   "mimetype": "text/x-python",
   "name": "python",
   "nbconvert_exporter": "python",
   "pygments_lexer": "ipython3",
   "version": "3.9.5"
  },
  "orig_nbformat": 4
 },
 "nbformat": 4,
 "nbformat_minor": 2
}
